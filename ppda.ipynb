{
 "cells": [
  {
   "cell_type": "code",
   "execution_count": 21,
   "id": "2d95e992",
   "metadata": {},
   "outputs": [],
   "source": [
    "import pandas as pd\n",
    "import numpy as np\n",
    "import os\n",
    "import json\n",
    "from calculate_ppda import calculate_match_ppda"
   ]
  },
  {
   "cell_type": "code",
   "execution_count": 30,
   "id": "6d170720",
   "metadata": {},
   "outputs": [],
   "source": [
    "DATA_DIR = os.path.join(\".\", 'data', 'wyscout_data')\n",
    "league = 'Spain'\n",
    "matches_dir = os.path.join(DATA_DIR, 'refined_events', league)"
   ]
  },
  {
   "cell_type": "code",
   "execution_count": null,
   "id": "5124c830",
   "metadata": {},
   "outputs": [],
   "source": [
    "teams_path = os.path.join(DATA_DIR, \"teams.json\")\n",
    "with open(teams_path) as json_data:\n",
    "    teams = json.load(json_data)\n",
    "spain_teams = [team for team in teams if team.get('area', {}).get('name') == 'Spain']\n",
    "pd.DataFrame(spain_teams)"
   ]
  },
  {
   "cell_type": "code",
   "execution_count": 31,
   "id": "b019ec19",
   "metadata": {},
   "outputs": [
    {
     "name": "stdout",
     "output_type": "stream",
     "text": [
      "Spain: 380\n"
     ]
    }
   ],
   "source": [
    "match_files = [f for f in os.listdir(matches_dir) if f.endswith('.pkl')]\n",
    "print(f\"{league}: {len(match_files)}\")"
   ]
  },
  {
   "cell_type": "code",
   "execution_count": 32,
   "id": "b31c6993",
   "metadata": {},
   "outputs": [],
   "source": [
    "# 모든 경기에 대해 PPDA를 계산하고 결과를 리스트에 저장\n",
    "all_ppda_records = []\n",
    "for match_file in match_files:\n",
    "\tmatch_file_path = os.path.join(matches_dir, match_file)\n",
    "\tmatch_events = pd.read_pickle(match_file_path)\n",
    "\n",
    "\tppda_values = calculate_match_ppda(match_events)\n",
    "\n",
    "\tfor team_id, ppda in ppda_values.items():\n",
    "\t\tteam_name = match_events[match_events['team_id'] == team_id]['team_name'].iloc[0]\n",
    "\t\tall_ppda_records.append({\n",
    "\t\t\t'team_id': team_id,\n",
    "\t\t\t'team_name': team_name,\n",
    "\t\t\t'ppda': ppda\n",
    "\t\t})\n",
    "\n",
    "ppda_df = pd.DataFrame(all_ppda_records)"
   ]
  },
  {
   "cell_type": "code",
   "execution_count": 33,
   "id": "464a6ef9",
   "metadata": {},
   "outputs": [
    {
     "name": "stdout",
     "output_type": "stream",
     "text": [
      "\n",
      "--- 스페인 리그 팀별 평균 PPDA (압박 강도가 강한 순) ---\n",
      "team_name\n",
      "Girona                 30.790539\n",
      "Getafe                 31.284451\n",
      "Villarreal             34.174020\n",
      "Eibar                  34.975428\n",
      "Sevilla                36.157534\n",
      "Málaga                 36.789577\n",
      "Las Palmas             36.878120\n",
      "Deportivo Alavés       37.316347\n",
      "Leganés                38.659702\n",
      "Real Sociedad          38.717978\n",
      "Real Betis             39.210748\n",
      "Atlético Madrid        39.557620\n",
      "Athletic Club          39.728718\n",
      "Real Madrid            40.666100\n",
      "Celta de Vigo          41.276239\n",
      "Deportivo La Coruña    41.782835\n",
      "Levante                42.055091\n",
      "Espanyol               44.108385\n",
      "Barcelona              47.072504\n",
      "Valencia               47.258385\n",
      "Name: ppda, dtype: float64\n"
     ]
    }
   ],
   "source": [
    "# 팀별로 그룹화하여 평균 PPDA 계산\n",
    "if not ppda_df.empty:\n",
    "\tteam_avg_ppda = ppda_df.dropna(subset=['ppda']).groupby('team_name')['ppda'].mean().sort_values(ascending=True)\n",
    "\n",
    "\tprint(\"\\n--- 스페인 리그 팀별 평균 PPDA (압박 강도가 강한 순) ---\")\n",
    "\tprint(team_avg_ppda)\n",
    "else:\n",
    "\tprint(\"\\nPPDA를 계산할 데이터가 없습니다.\")"
   ]
  }
 ],
 "metadata": {
  "kernelspec": {
   "display_name": ".venv",
   "language": "python",
   "name": "python3"
  },
  "language_info": {
   "codemirror_mode": {
    "name": "ipython",
    "version": 3
   },
   "file_extension": ".py",
   "mimetype": "text/x-python",
   "name": "python",
   "nbconvert_exporter": "python",
   "pygments_lexer": "ipython3",
   "version": "3.8.10"
  }
 },
 "nbformat": 4,
 "nbformat_minor": 5
}
